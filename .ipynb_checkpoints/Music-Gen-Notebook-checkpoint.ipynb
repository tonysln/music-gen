{
 "cells": [
  {
   "cell_type": "markdown",
   "id": "b37f35f7",
   "metadata": {},
   "source": [
    "# Generating Simple Musical Compositions Using Genetic Algorithms\n",
    "\n",
    "(Group) Project\n",
    "\n",
    "**Algorithmics 2022/23**\n",
    "\n",
    "Team: **Anton Slavin**\n",
    "\n",
    "---\n",
    "\n",
    "The goal of this project is to create a genetic algorithm capable of generating simple musical melodies. The melodies are to be evaluated by ear and must be \"pleasant enough\" to be called \"music\". In order to achieve this, the following steps will be completed:\n",
    "\n",
    "1. Research previous methods of generating music.\n",
    "2. Define a base system of generating short musical snippets in accordance with musical theory, so as to avoid clearly dissonant and \"unpleasant\" musical ideas.\n",
    "3. Create functions capable of running genetical evolutions on some input.\n",
    "4. Design a representation of a short musical composition to be evolved by a genetic algorithm and test the previously created functions.\n",
    "5. Evaluate the results and introduce improvements to the genetic algorithm.\n",
    "\n",
    "..."
   ]
  },
  {
   "cell_type": "code",
   "execution_count": 1,
   "id": "54ad56f0",
   "metadata": {},
   "outputs": [],
   "source": [
    "# Previous efforts\n",
    "\n",
    "# ..."
   ]
  },
  {
   "cell_type": "code",
   "execution_count": 71,
   "id": "dd5896ef",
   "metadata": {},
   "outputs": [],
   "source": [
    "# Base system of generating musical snippets\n",
    "# NB! Required: Python 3.11 for faster performance on calling functions OR pypy3\n",
    "\n",
    "from midiutil import MIDIFile\n",
    "from random import choice, choices, random\n",
    "import matplotlib.pyplot as plt"
   ]
  },
  {
   "cell_type": "code",
   "execution_count": 3,
   "id": "8f9b09d2",
   "metadata": {},
   "outputs": [],
   "source": [
    "def rand_note_stream(n, scale, lens):\n",
    "    notes = []\n",
    "    durs  = []\n",
    "    for i in range(n):\n",
    "        notes.append(choice(scale))\n",
    "        durs.append(choice(lens))\n",
    "    \n",
    "    times = [0]\n",
    "    for i,d in enumerate(durs):\n",
    "        times.append(times[i] + d)\n",
    "        \n",
    "    return (notes,durs,times)\n",
    "\n",
    "\n",
    "def create_midi(notes, durs, times, fname):\n",
    "    track    = 0\n",
    "    channel  = 0\n",
    "    tempo    = 150\n",
    "    volume   = 100\n",
    "    \n",
    "    midi = MIDIFile(1)\n",
    "    midi.addTempo(track, 0, tempo)\n",
    "    \n",
    "    for i,pitch in enumerate(notes):\n",
    "        midi.addNote(track, channel, pitch, times[i], durs[i], volume)\n",
    "\n",
    "    with open(fname, 'wb') as bf:\n",
    "        midi.writeFile(bf)"
   ]
  },
  {
   "cell_type": "code",
   "execution_count": null,
   "id": "11290c11",
   "metadata": {},
   "outputs": [],
   "source": []
  },
  {
   "cell_type": "markdown",
   "id": "cda23c73",
   "metadata": {},
   "source": [
    "Fitness especially important ... have to define what counts as \"pleasant to the ear\" and what not.\n",
    "\n",
    "Some simple examples we can try:\n",
    "\n",
    "- No more than 2 notes in rapid succession.\n",
    "- End on the same note you started on.\n",
    "- Look for small \"pleasant\" patterns/riffs/licks.\n",
    "\n",
    "If any of the rules disobeyed - decrease score. Otherwise either leave neutral or increase.\n",
    "\n",
    "Overall, take sums of X notes and X notes and X licks ..."
   ]
  },
  {
   "cell_type": "code",
   "execution_count": 47,
   "id": "7a42d34f",
   "metadata": {},
   "outputs": [],
   "source": [
    "class Composition():\n",
    "    \"\"\"Miniature musical composition class\n",
    "    \n",
    "    Represented by a stream of MIDI note values and durations.\n",
    "    \"\"\"\n",
    "    \n",
    "    def __init__(self, n, scale, lens=[0.5, 1, 1.5]):\n",
    "        n_,d_,t_ = rand_note_stream(n, scale, lens)\n",
    "        self.notes = n_\n",
    "        self.durations = d_\n",
    "        self.times = t_\n",
    "        self.scale = scale\n",
    "        self.lens = lens\n",
    "    \n",
    "    \n",
    "    def fitness(self):\n",
    "        score = 2.0\n",
    "        \n",
    "        # Does not end on root\n",
    "        if self.notes[-1] != self.scale[0]:\n",
    "            score -= 0.15\n",
    "        \n",
    "        for i,n in enumerate(self.notes):\n",
    "            # Repeating notes\n",
    "            if i > 1 and (self.notes[i-2] == self.notes[i-1] == n):\n",
    "                score -= 0.1\n",
    "                \n",
    "            if abs(n - self.notes[i-1]) > 5:\n",
    "                score -= 0.15\n",
    "                \n",
    "            if abs(n - self.notes[i-1]) > 7:\n",
    "                score -= 0.25\n",
    "        \n",
    "            # Lick 1\n",
    "            if i > 1 and (self.notes[i-2] == n) and (n != self.notes[i-1]) and (abs(n - self.notes[i-1]) < 3):\n",
    "                score += 0.08\n",
    "        \n",
    "            # Lick 2\n",
    "            if i > 1 and (abs(self.notes[i-2] - self.notes[i-1]) < 3) and (abs(n - self.notes[i-1]) < 3):\n",
    "                score += 0.1\n",
    "                \n",
    "        # Encourage \"good\" notes\n",
    "        for _ in range(self.notes.count(self.scale[4])):\n",
    "            score += 0.1\n",
    "        for _ in range(self.notes.count(self.scale[2])):\n",
    "            score += 0.2\n",
    "        for _ in range(self.notes.count(self.scale[0])):\n",
    "            score += 0.15\n",
    "        for _ in range(self.notes.count(self.scale[-1])):\n",
    "            score += 0.1\n",
    "            \n",
    "        # \"bad\" notes\n",
    "        for _ in range(self.notes.count(self.scale[1])):\n",
    "            score -= 0.1\n",
    "        for _ in range(self.notes.count(self.scale[6])):\n",
    "            score -= 0.1\n",
    "        \n",
    "        return max(0.000001, score)\n",
    "    \n",
    "    \n",
    "    def mutate(self, mutrate):\n",
    "        for i,n in enumerate(self.notes):\n",
    "            if random() < mutrate:\n",
    "                self.notes[i] = choice(self.scale)\n",
    "    \n",
    "    \n",
    "    def crossover(self, other):\n",
    "        p = choice(range(len(self.notes)))\n",
    "        self.notes = other.notes[:p] + self.notes[p:]\n",
    "    \n",
    "    \n",
    "    def save_midi(self, fname):\n",
    "        create_midi(self.notes, self.durations, self.times, fname)\n",
    "    \n",
    "    \n",
    "    def __repr__(self):\n",
    "        s = [f'{n},{d}' for n,d in zip(self.notes, self.durations)]\n",
    "        return f'<Composition {s[0]}...{s[-1]}>'"
   ]
  },
  {
   "cell_type": "code",
   "execution_count": 62,
   "id": "a1a87220",
   "metadata": {},
   "outputs": [],
   "source": [
    "A_DORIAN = [57, 59, 60, 62, 64, 66, 67, 69]\n",
    "A_MINOR  = [57, 59, 60, 62, 64, 65, 67, 68]\n",
    "C_MAJOR  = [60, 62, 64, 65, 67, 69, 71, 72]"
   ]
  },
  {
   "cell_type": "code",
   "execution_count": 80,
   "id": "22bdc288",
   "metadata": {},
   "outputs": [],
   "source": [
    "class MusicGA():\n",
    "    \"\"\"Musical composition evolver using a genetic algorithm\"\"\"\n",
    "    \n",
    "    def __init__(self, clen, poplen, mutrate, targetfit):\n",
    "        self.pop = []\n",
    "        self.pool = []\n",
    "        self.clen = clen\n",
    "        self.poplen = poplen\n",
    "        self.mutrate = mutrate\n",
    "        self.best = None\n",
    "        self.worst = None\n",
    "        self.targetfit = targetfit    \n",
    "    \n",
    "    def populate(self, scale):\n",
    "        self.pop = []\n",
    "        for _ in range(self.poplen):\n",
    "            c = Composition(self.clen, scale)\n",
    "            self.pop.append((c, c.fitness()))\n",
    "    \n",
    "    \n",
    "    def make_pool(self):\n",
    "        self.pool = []\n",
    "        best = None\n",
    "        bestf = -10e7\n",
    "        fsum = 0.0\n",
    "        worst = None\n",
    "        worstf = 10e7\n",
    "        \n",
    "        for c,f in self.pop:\n",
    "            if f > bestf:\n",
    "                best = c\n",
    "                bestf = f\n",
    "            if f < worstf:\n",
    "                worst = c\n",
    "                worstf = f\n",
    "            fsum += f\n",
    "        \n",
    "        # https://dev.to/rpalo/python-s-random-choices-is-awesome-46ii\n",
    "        \n",
    "        ws = [f / fsum for c,f in self.pop]\n",
    "        for _ in range(self.poplen):\n",
    "            r = random()\n",
    "            acc = 0\n",
    "            idx = -1\n",
    "            while acc < r: \n",
    "                idx += 1 \n",
    "                acc += ws[idx] \n",
    "            \n",
    "            self.pool.append(self.pop[idx])\n",
    "        \n",
    "#         fns = [f for c,f in self.pop]\n",
    "#         self.pool = choices(population=self.pop, \n",
    "#                             weights=fns,\n",
    "#                             k=self.poplen)\n",
    "\n",
    "        self.best = (best,bestf)\n",
    "        self.worst = (worst,worstf)\n",
    "        \n",
    "    \n",
    "    def evolve(self):\n",
    "        # self pop updated as a result, ready to run make_pool()\n",
    "        for i in range(self.poplen):\n",
    "            p1,p2 = choices(self.pool, k=2)\n",
    "            p1,_ = p1\n",
    "            p2,_ = p2\n",
    "            p1.crossover(p2)\n",
    "            p1.mutate(self.mutrate)\n",
    "            self.pop[i] = (p1, p1.fitness())\n",
    "    \n",
    "    \n",
    "    def run(self):\n",
    "        it = 1\n",
    "        while True:\n",
    "            it += 1\n",
    "            mga.evolve()\n",
    "            mga.make_pool()\n",
    "            b,f = mga.best\n",
    "            if f > self.targetfit:\n",
    "                print(tr, f, it)\n",
    "                b.save_midi('mga_best.mid')\n",
    "                print('Midi saved')\n",
    "                break\n",
    "                \n",
    "            if it % 500 == 0:\n",
    "                self.targetfit -= 0.02\n",
    "                print(it, f)"
   ]
  },
  {
   "cell_type": "code",
   "execution_count": 81,
   "id": "1a85d187",
   "metadata": {},
   "outputs": [
    {
     "name": "stdout",
     "output_type": "stream",
     "text": [
      "500 2.239999999999999\n",
      "1000 3.340000000000001\n",
      "1500 4.040000000000005\n",
      "2000 3.2700000000000005\n",
      "2500 3.680000000000006\n",
      "3000 2.8300000000000005\n",
      "3500 4.170000000000001\n",
      "4.470000000000008 6.630000000000007 3783\n",
      "Midi saved\n"
     ]
    }
   ],
   "source": [
    "mga = MusicGA(clen=64, poplen=200, mutrate=0.15, targetfit=6.5)\n",
    "mga.populate(A_DORIAN)\n",
    "mga.make_pool()\n",
    "mga.run()"
   ]
  },
  {
   "cell_type": "code",
   "execution_count": 82,
   "id": "7baff3ed",
   "metadata": {},
   "outputs": [
    {
     "data": {
      "image/png": "[encoded data removed]",
      "text/plain": [
       "<Figure size 432x288 with 1 Axes>"
      ]
     },
     "metadata": {
      "needs_background": "light"
     },
     "output_type": "display_data"
    }
   ],
   "source": [
    "b,f = mga.best\n",
    "plt.hist(b.notes, color='skyblue', edgecolor='black')\n",
    "plt.title('Best Composition Note Histogram')\n",
    "plt.xlabel('Note')\n",
    "plt.ylabel('Frequency')\n",
    "plt.show()"
   ]
  },
  {
   "cell_type": "code",
   "execution_count": 83,
   "id": "affe17c1",
   "metadata": {},
   "outputs": [
    {
     "data": {
      "image/png": "[encoded data removed]",
      "text/plain": [
       "<Figure size 432x288 with 1 Axes>"
      ]
     },
     "metadata": {
      "needs_background": "light"
     },
     "output_type": "display_data"
    }
   ],
   "source": [
    "w,f = mga.worst\n",
    "#w.save_midi('mga_worst.mid')\n",
    "plt.hist(w.notes, color='lightcoral', edgecolor='black')\n",
    "plt.title('Worst Composition Note Histogram')\n",
    "plt.xlabel('Note')\n",
    "plt.ylabel('Frequency')\n",
    "plt.show()"
   ]
  },
  {
   "cell_type": "code",
   "execution_count": null,
   "id": "6d5d5db5",
   "metadata": {},
   "outputs": [],
   "source": []
  },
  {
   "cell_type": "code",
   "execution_count": 121,
   "id": "5956ecfc",
   "metadata": {},
   "outputs": [],
   "source": [
    "## SOURCES USED AND VIEWED\n",
    "\n",
    "# https://github.com/tonysln/py-ga/blob/main/genpixel.py\n",
    "# https://dev.to/rpalo/python-s-random-choices-is-awesome-46ii"
   ]
  },
  {
   "cell_type": "code",
   "execution_count": 84,
   "id": "ea912f42",
   "metadata": {},
   "outputs": [],
   "source": [
    "# ~~~ Moving to separate file at this point ~~~"
   ]
  },
  {
   "cell_type": "code",
   "execution_count": null,
   "id": "dd6a4f7c",
   "metadata": {},
   "outputs": [],
   "source": []
  }
 ],
 "metadata": {
  "kernelspec": {
   "display_name": "Python 3 (ipykernel)",
   "language": "python",
   "name": "python3"
  },
  "language_info": {
   "codemirror_mode": {
    "name": "ipython",
    "version": 3
   },
   "file_extension": ".py",
   "mimetype": "text/x-python",
   "name": "python",
   "nbconvert_exporter": "python",
   "pygments_lexer": "ipython3",
   "version": "3.10.4"
  }
 },
 "nbformat": 4,
 "nbformat_minor": 5
}
